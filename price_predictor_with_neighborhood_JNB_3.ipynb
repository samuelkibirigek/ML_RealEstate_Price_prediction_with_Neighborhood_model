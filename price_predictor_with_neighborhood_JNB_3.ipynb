{
 "cells": [
  {
   "cell_type": "markdown",
   "id": "759040f7",
   "metadata": {},
   "source": [
    "<font size=\"+3\"><strong>JNB3 Predicting Price with Neighborhood</strong></font>"
   ]
  },
  {
   "cell_type": "code",
   "execution_count": 6,
   "id": "d5902fd6",
   "metadata": {},
   "outputs": [],
   "source": [
    "from glob import glob\n",
    "\n",
    "import matplotlib.pyplot as plt\n",
    "import pandas as pd\n",
    "import numpy as np\n",
    "\n",
    "from sklearn.preprocessing import OneHotEncoder\n",
    "from sklearn.linear_model import LinearRegression, Ridge\n",
    "from sklearn.metrics import mean_absolute_error\n",
    "from sklearn.pipeline import make_pipeline"
   ]
  },
  {
   "cell_type": "markdown",
   "id": "f1273004",
   "metadata": {},
   "source": [
    "In the last notebook, I created a model that used location — represented by latitude and longitude — to predict price. Here, I am going to use a different representation for location: neighborhood."
   ]
  },
  {
   "cell_type": "markdown",
   "id": "1590415f",
   "metadata": {},
   "source": [
    "# Prepare Data"
   ]
  },
  {
   "cell_type": "markdown",
   "id": "ed4e390a",
   "metadata": {},
   "source": [
    "## Import"
   ]
  },
  {
   "cell_type": "markdown",
   "id": "2c59c014",
   "metadata": {},
   "source": [
    "I modified the `wrangle` function to create a new feature `\"neighborhood\"`. You can find the neighborhood for each property in the `\"place_with_parent_names\"` column. For example, a property with the place name `\"|Argentina|Capital Federal|Palermo|\"` is located in the neighborhood is `\"Palermo\"`. Also, the function should drop the `\"place_with_parent_names\"` column."
   ]
  },
  {
   "cell_type": "code",
   "execution_count": 7,
   "id": "a38c98e8",
   "metadata": {},
   "outputs": [],
   "source": [
    "def wrangle(filepath):\n",
    "    # Read CSV file\n",
    "    df = pd.read_csv(filepath)\n",
    "\n",
    "    # Subset data: Apartments in \"Capital Federal\", less than 400,000\n",
    "    mask_ba = df[\"place_with_parent_names\"].str.contains(\"Capital Federal\")\n",
    "    mask_apt = df[\"property_type\"] == \"apartment\"\n",
    "    mask_price = df[\"price_aprox_usd\"] < 400_000\n",
    "    df = df[mask_ba & mask_apt & mask_price]\n",
    "\n",
    "    # Subset data: Remove outliers for \"surface_covered_in_m2\"\n",
    "    low, high = df[\"surface_covered_in_m2\"].quantile([0.1, 0.9])\n",
    "    mask_area = df[\"surface_covered_in_m2\"].between(low, high)\n",
    "    df = df[mask_area]\n",
    "\n",
    "    # Split \"lat-lon\" column\n",
    "    df[[\"lat\", \"lon\"]] = df[\"lat-lon\"].str.split(\",\", expand=True).astype(float)\n",
    "    df.drop(columns=\"lat-lon\", inplace=True)\n",
    "    \n",
    "    # Extracting the neighborhood column\n",
    "    df[\"neighborhood\"] = df[\"place_with_parent_names\"].str.split(\"|\", expand=True)[3]\n",
    "    \n",
    "    # Drop the \"place_with_parent_names\" column\n",
    "    df.drop(columns=[\"place_with_parent_names\"], inplace=True)\n",
    "    \n",
    "    return df"
   ]
  },
  {
   "cell_type": "markdown",
   "id": "bc1c039e",
   "metadata": {},
   "source": [
    "In the last lesson, I used the `wrangle` function to import two CSV files as DataFrames. But what if I had hundreds of CSV files to import? Wrangling them one-by-one wouldn't be an option. So I'll start with a technique for reading several CSV files into a single DataFrame. \n",
    "\n",
    "The first step is to gather the names of all the files we want to import. We can do this using pattern matching."
   ]
  },
  {
   "cell_type": "markdown",
   "id": "41efc7ab",
   "metadata": {},
   "source": [
    "Use glob to create a list that contains the filenames for all the Buenos Aires real estate CSV files in the data directory. Assign this list to the variable name files."
   ]
  },
  {
   "cell_type": "code",
   "execution_count": 15,
   "id": "cc5ebf8a",
   "metadata": {},
   "outputs": [
    {
     "data": {
      "text/plain": [
       "['data/argentina_realestate_3.csv',\n",
       " 'data/argentina_realestate_2.csv',\n",
       " 'data/argentina_realestate_1.csv',\n",
       " 'data/argentina_realestate_5.csv',\n",
       " 'data/argentina_realestate_4.csv']"
      ]
     },
     "execution_count": 15,
     "metadata": {},
     "output_type": "execute_result"
    }
   ],
   "source": [
    "files = glob(\"data/argentina_realestate_*.csv\")\n",
    "files"
   ]
  },
  {
   "cell_type": "markdown",
   "id": "d09bb22f",
   "metadata": {},
   "source": [
    "I used the wrangle function in a for loop to create a list named frames. The list should then clean DataFrames created from the CSV filenames you collected in files."
   ]
  },
  {
   "cell_type": "code",
   "execution_count": 16,
   "id": "27abafa0",
   "metadata": {},
   "outputs": [
    {
     "data": {
      "text/html": [
       "<div>\n",
       "<style scoped>\n",
       "    .dataframe tbody tr th:only-of-type {\n",
       "        vertical-align: middle;\n",
       "    }\n",
       "\n",
       "    .dataframe tbody tr th {\n",
       "        vertical-align: top;\n",
       "    }\n",
       "\n",
       "    .dataframe thead th {\n",
       "        text-align: right;\n",
       "    }\n",
       "</style>\n",
       "<table border=\"1\" class=\"dataframe\">\n",
       "  <thead>\n",
       "    <tr style=\"text-align: right;\">\n",
       "      <th></th>\n",
       "      <th>operation</th>\n",
       "      <th>property_type</th>\n",
       "      <th>price</th>\n",
       "      <th>currency</th>\n",
       "      <th>price_aprox_local_currency</th>\n",
       "      <th>price_aprox_usd</th>\n",
       "      <th>surface_total_in_m2</th>\n",
       "      <th>surface_covered_in_m2</th>\n",
       "      <th>price_usd_per_m2</th>\n",
       "      <th>price_per_m2</th>\n",
       "      <th>floor</th>\n",
       "      <th>rooms</th>\n",
       "      <th>expenses</th>\n",
       "      <th>properati_url</th>\n",
       "      <th>lat</th>\n",
       "      <th>lon</th>\n",
       "      <th>neighborhood</th>\n",
       "    </tr>\n",
       "  </thead>\n",
       "  <tbody>\n",
       "    <tr>\n",
       "      <th>7</th>\n",
       "      <td>sell</td>\n",
       "      <td>apartment</td>\n",
       "      <td>120000.0</td>\n",
       "      <td>USD</td>\n",
       "      <td>1819488.00</td>\n",
       "      <td>120000.0</td>\n",
       "      <td>NaN</td>\n",
       "      <td>55.0</td>\n",
       "      <td>NaN</td>\n",
       "      <td>2181.818182</td>\n",
       "      <td>NaN</td>\n",
       "      <td>2.0</td>\n",
       "      <td>NaN</td>\n",
       "      <td>http://villa-general-mitre.properati.com.ar/xx...</td>\n",
       "      <td>-34.616004</td>\n",
       "      <td>-58.470506</td>\n",
       "      <td>Villa General Mitre</td>\n",
       "    </tr>\n",
       "    <tr>\n",
       "      <th>20</th>\n",
       "      <td>sell</td>\n",
       "      <td>apartment</td>\n",
       "      <td>89000.0</td>\n",
       "      <td>USD</td>\n",
       "      <td>1349453.60</td>\n",
       "      <td>89000.0</td>\n",
       "      <td>NaN</td>\n",
       "      <td>37.0</td>\n",
       "      <td>NaN</td>\n",
       "      <td>2405.405405</td>\n",
       "      <td>7.0</td>\n",
       "      <td>2.0</td>\n",
       "      <td>NaN</td>\n",
       "      <td>http://palermo.properati.com.ar/ya5i_venta_dep...</td>\n",
       "      <td>-34.584712</td>\n",
       "      <td>-58.444927</td>\n",
       "      <td>Palermo</td>\n",
       "    </tr>\n",
       "    <tr>\n",
       "      <th>21</th>\n",
       "      <td>sell</td>\n",
       "      <td>apartment</td>\n",
       "      <td>183495.0</td>\n",
       "      <td>USD</td>\n",
       "      <td>2782224.58</td>\n",
       "      <td>183495.0</td>\n",
       "      <td>92.0</td>\n",
       "      <td>57.0</td>\n",
       "      <td>1994.51087</td>\n",
       "      <td>3219.210526</td>\n",
       "      <td>NaN</td>\n",
       "      <td>2.0</td>\n",
       "      <td>NaN</td>\n",
       "      <td>http://saavedra.properati.com.ar/12izq_venta_d...</td>\n",
       "      <td>-34.554652</td>\n",
       "      <td>-58.493644</td>\n",
       "      <td>Saavedra</td>\n",
       "    </tr>\n",
       "    <tr>\n",
       "      <th>41</th>\n",
       "      <td>sell</td>\n",
       "      <td>apartment</td>\n",
       "      <td>95000.0</td>\n",
       "      <td>USD</td>\n",
       "      <td>1440428.00</td>\n",
       "      <td>95000.0</td>\n",
       "      <td>53.0</td>\n",
       "      <td>47.0</td>\n",
       "      <td>1792.45283</td>\n",
       "      <td>2021.276596</td>\n",
       "      <td>NaN</td>\n",
       "      <td>2.0</td>\n",
       "      <td>NaN</td>\n",
       "      <td>http://villa-del-parque.properati.com.ar/wy0n_...</td>\n",
       "      <td>-34.610581</td>\n",
       "      <td>-58.479625</td>\n",
       "      <td>Villa del Parque</td>\n",
       "    </tr>\n",
       "    <tr>\n",
       "      <th>43</th>\n",
       "      <td>sell</td>\n",
       "      <td>apartment</td>\n",
       "      <td>95000.0</td>\n",
       "      <td>USD</td>\n",
       "      <td>1440428.00</td>\n",
       "      <td>95000.0</td>\n",
       "      <td>0.0</td>\n",
       "      <td>35.0</td>\n",
       "      <td>NaN</td>\n",
       "      <td>2714.285714</td>\n",
       "      <td>NaN</td>\n",
       "      <td>1.0</td>\n",
       "      <td>NaN</td>\n",
       "      <td>http://belgrano.properati.com.ar/xw9a_venta_de...</td>\n",
       "      <td>-34.558227</td>\n",
       "      <td>-58.458357</td>\n",
       "      <td>Belgrano</td>\n",
       "    </tr>\n",
       "  </tbody>\n",
       "</table>\n",
       "</div>"
      ],
      "text/plain": [
       "   operation property_type     price currency  price_aprox_local_currency  \\\n",
       "7       sell     apartment  120000.0      USD                  1819488.00   \n",
       "20      sell     apartment   89000.0      USD                  1349453.60   \n",
       "21      sell     apartment  183495.0      USD                  2782224.58   \n",
       "41      sell     apartment   95000.0      USD                  1440428.00   \n",
       "43      sell     apartment   95000.0      USD                  1440428.00   \n",
       "\n",
       "    price_aprox_usd  surface_total_in_m2  surface_covered_in_m2  \\\n",
       "7          120000.0                  NaN                   55.0   \n",
       "20          89000.0                  NaN                   37.0   \n",
       "21         183495.0                 92.0                   57.0   \n",
       "41          95000.0                 53.0                   47.0   \n",
       "43          95000.0                  0.0                   35.0   \n",
       "\n",
       "    price_usd_per_m2  price_per_m2  floor  rooms  expenses  \\\n",
       "7                NaN   2181.818182    NaN    2.0       NaN   \n",
       "20               NaN   2405.405405    7.0    2.0       NaN   \n",
       "21        1994.51087   3219.210526    NaN    2.0       NaN   \n",
       "41        1792.45283   2021.276596    NaN    2.0       NaN   \n",
       "43               NaN   2714.285714    NaN    1.0       NaN   \n",
       "\n",
       "                                        properati_url        lat        lon  \\\n",
       "7   http://villa-general-mitre.properati.com.ar/xx... -34.616004 -58.470506   \n",
       "20  http://palermo.properati.com.ar/ya5i_venta_dep... -34.584712 -58.444927   \n",
       "21  http://saavedra.properati.com.ar/12izq_venta_d... -34.554652 -58.493644   \n",
       "41  http://villa-del-parque.properati.com.ar/wy0n_... -34.610581 -58.479625   \n",
       "43  http://belgrano.properati.com.ar/xw9a_venta_de... -34.558227 -58.458357   \n",
       "\n",
       "           neighborhood  \n",
       "7   Villa General Mitre  \n",
       "20              Palermo  \n",
       "21             Saavedra  \n",
       "41     Villa del Parque  \n",
       "43             Belgrano  "
      ]
     },
     "execution_count": 16,
     "metadata": {},
     "output_type": "execute_result"
    }
   ],
   "source": [
    "frames = [wrangle(file) for file in files]\n",
    "frames[0].head()"
   ]
  },
  {
   "cell_type": "markdown",
   "id": "ff45079d",
   "metadata": {},
   "source": [
    "I will use pd.concat to concatenate the items in frames into a single DataFrame df. Make sure you set the ignore_index argument to True."
   ]
  },
  {
   "cell_type": "code",
   "execution_count": 18,
   "id": "129c0254",
   "metadata": {},
   "outputs": [
    {
     "data": {
      "text/html": [
       "<div>\n",
       "<style scoped>\n",
       "    .dataframe tbody tr th:only-of-type {\n",
       "        vertical-align: middle;\n",
       "    }\n",
       "\n",
       "    .dataframe tbody tr th {\n",
       "        vertical-align: top;\n",
       "    }\n",
       "\n",
       "    .dataframe thead th {\n",
       "        text-align: right;\n",
       "    }\n",
       "</style>\n",
       "<table border=\"1\" class=\"dataframe\">\n",
       "  <thead>\n",
       "    <tr style=\"text-align: right;\">\n",
       "      <th></th>\n",
       "      <th>operation</th>\n",
       "      <th>property_type</th>\n",
       "      <th>price</th>\n",
       "      <th>currency</th>\n",
       "      <th>price_aprox_local_currency</th>\n",
       "      <th>price_aprox_usd</th>\n",
       "      <th>surface_total_in_m2</th>\n",
       "      <th>surface_covered_in_m2</th>\n",
       "      <th>price_usd_per_m2</th>\n",
       "      <th>price_per_m2</th>\n",
       "      <th>floor</th>\n",
       "      <th>rooms</th>\n",
       "      <th>expenses</th>\n",
       "      <th>properati_url</th>\n",
       "      <th>lat</th>\n",
       "      <th>lon</th>\n",
       "      <th>neighborhood</th>\n",
       "    </tr>\n",
       "  </thead>\n",
       "  <tbody>\n",
       "    <tr>\n",
       "      <th>0</th>\n",
       "      <td>sell</td>\n",
       "      <td>apartment</td>\n",
       "      <td>120000.0</td>\n",
       "      <td>USD</td>\n",
       "      <td>1819488.00</td>\n",
       "      <td>120000.0</td>\n",
       "      <td>NaN</td>\n",
       "      <td>55.0</td>\n",
       "      <td>NaN</td>\n",
       "      <td>2181.818182</td>\n",
       "      <td>NaN</td>\n",
       "      <td>2.0</td>\n",
       "      <td>NaN</td>\n",
       "      <td>http://villa-general-mitre.properati.com.ar/xx...</td>\n",
       "      <td>-34.616004</td>\n",
       "      <td>-58.470506</td>\n",
       "      <td>Villa General Mitre</td>\n",
       "    </tr>\n",
       "    <tr>\n",
       "      <th>1</th>\n",
       "      <td>sell</td>\n",
       "      <td>apartment</td>\n",
       "      <td>89000.0</td>\n",
       "      <td>USD</td>\n",
       "      <td>1349453.60</td>\n",
       "      <td>89000.0</td>\n",
       "      <td>NaN</td>\n",
       "      <td>37.0</td>\n",
       "      <td>NaN</td>\n",
       "      <td>2405.405405</td>\n",
       "      <td>7.0</td>\n",
       "      <td>2.0</td>\n",
       "      <td>NaN</td>\n",
       "      <td>http://palermo.properati.com.ar/ya5i_venta_dep...</td>\n",
       "      <td>-34.584712</td>\n",
       "      <td>-58.444927</td>\n",
       "      <td>Palermo</td>\n",
       "    </tr>\n",
       "    <tr>\n",
       "      <th>2</th>\n",
       "      <td>sell</td>\n",
       "      <td>apartment</td>\n",
       "      <td>183495.0</td>\n",
       "      <td>USD</td>\n",
       "      <td>2782224.58</td>\n",
       "      <td>183495.0</td>\n",
       "      <td>92.0</td>\n",
       "      <td>57.0</td>\n",
       "      <td>1994.51087</td>\n",
       "      <td>3219.210526</td>\n",
       "      <td>NaN</td>\n",
       "      <td>2.0</td>\n",
       "      <td>NaN</td>\n",
       "      <td>http://saavedra.properati.com.ar/12izq_venta_d...</td>\n",
       "      <td>-34.554652</td>\n",
       "      <td>-58.493644</td>\n",
       "      <td>Saavedra</td>\n",
       "    </tr>\n",
       "    <tr>\n",
       "      <th>3</th>\n",
       "      <td>sell</td>\n",
       "      <td>apartment</td>\n",
       "      <td>95000.0</td>\n",
       "      <td>USD</td>\n",
       "      <td>1440428.00</td>\n",
       "      <td>95000.0</td>\n",
       "      <td>53.0</td>\n",
       "      <td>47.0</td>\n",
       "      <td>1792.45283</td>\n",
       "      <td>2021.276596</td>\n",
       "      <td>NaN</td>\n",
       "      <td>2.0</td>\n",
       "      <td>NaN</td>\n",
       "      <td>http://villa-del-parque.properati.com.ar/wy0n_...</td>\n",
       "      <td>-34.610581</td>\n",
       "      <td>-58.479625</td>\n",
       "      <td>Villa del Parque</td>\n",
       "    </tr>\n",
       "    <tr>\n",
       "      <th>4</th>\n",
       "      <td>sell</td>\n",
       "      <td>apartment</td>\n",
       "      <td>95000.0</td>\n",
       "      <td>USD</td>\n",
       "      <td>1440428.00</td>\n",
       "      <td>95000.0</td>\n",
       "      <td>0.0</td>\n",
       "      <td>35.0</td>\n",
       "      <td>NaN</td>\n",
       "      <td>2714.285714</td>\n",
       "      <td>NaN</td>\n",
       "      <td>1.0</td>\n",
       "      <td>NaN</td>\n",
       "      <td>http://belgrano.properati.com.ar/xw9a_venta_de...</td>\n",
       "      <td>-34.558227</td>\n",
       "      <td>-58.458357</td>\n",
       "      <td>Belgrano</td>\n",
       "    </tr>\n",
       "  </tbody>\n",
       "</table>\n",
       "</div>"
      ],
      "text/plain": [
       "  operation property_type     price currency  price_aprox_local_currency  \\\n",
       "0      sell     apartment  120000.0      USD                  1819488.00   \n",
       "1      sell     apartment   89000.0      USD                  1349453.60   \n",
       "2      sell     apartment  183495.0      USD                  2782224.58   \n",
       "3      sell     apartment   95000.0      USD                  1440428.00   \n",
       "4      sell     apartment   95000.0      USD                  1440428.00   \n",
       "\n",
       "   price_aprox_usd  surface_total_in_m2  surface_covered_in_m2  \\\n",
       "0         120000.0                  NaN                   55.0   \n",
       "1          89000.0                  NaN                   37.0   \n",
       "2         183495.0                 92.0                   57.0   \n",
       "3          95000.0                 53.0                   47.0   \n",
       "4          95000.0                  0.0                   35.0   \n",
       "\n",
       "   price_usd_per_m2  price_per_m2  floor  rooms expenses  \\\n",
       "0               NaN   2181.818182    NaN    2.0      NaN   \n",
       "1               NaN   2405.405405    7.0    2.0      NaN   \n",
       "2        1994.51087   3219.210526    NaN    2.0      NaN   \n",
       "3        1792.45283   2021.276596    NaN    2.0      NaN   \n",
       "4               NaN   2714.285714    NaN    1.0      NaN   \n",
       "\n",
       "                                       properati_url        lat        lon  \\\n",
       "0  http://villa-general-mitre.properati.com.ar/xx... -34.616004 -58.470506   \n",
       "1  http://palermo.properati.com.ar/ya5i_venta_dep... -34.584712 -58.444927   \n",
       "2  http://saavedra.properati.com.ar/12izq_venta_d... -34.554652 -58.493644   \n",
       "3  http://villa-del-parque.properati.com.ar/wy0n_... -34.610581 -58.479625   \n",
       "4  http://belgrano.properati.com.ar/xw9a_venta_de... -34.558227 -58.458357   \n",
       "\n",
       "          neighborhood  \n",
       "0  Villa General Mitre  \n",
       "1              Palermo  \n",
       "2             Saavedra  \n",
       "3     Villa del Parque  \n",
       "4             Belgrano  "
      ]
     },
     "execution_count": 18,
     "metadata": {},
     "output_type": "execute_result"
    }
   ],
   "source": [
    "df = pd.concat(frames, ignore_index=True)\n",
    "df.head()"
   ]
  },
  {
   "cell_type": "markdown",
   "id": "e6d28cfc",
   "metadata": {},
   "source": [
    "## Explore"
   ]
  },
  {
   "cell_type": "markdown",
   "id": "fbdd8caa",
   "metadata": {},
   "source": [
    "I did explore the data as I cleaned it and came up with the wrangle function."
   ]
  },
  {
   "cell_type": "markdown",
   "id": "947c7f6f",
   "metadata": {},
   "source": [
    "## Split"
   ]
  },
  {
   "cell_type": "code",
   "execution_count": 20,
   "id": "236f9739",
   "metadata": {},
   "outputs": [
    {
     "name": "stdout",
     "output_type": "stream",
     "text": [
      "(6582, 1)\n"
     ]
    },
    {
     "data": {
      "text/plain": [
       "(6582,)"
      ]
     },
     "execution_count": 20,
     "metadata": {},
     "output_type": "execute_result"
    }
   ],
   "source": [
    "features = [\"neighborhood\"]\n",
    "target = \"price_aprox_usd\"\n",
    "X_train = df[features]\n",
    "y_train = df[target]\n",
    "print(X_train.shape)\n",
    "y_train.shape"
   ]
  },
  {
   "cell_type": "markdown",
   "id": "0ccc6948",
   "metadata": {},
   "source": [
    "## Build Model"
   ]
  },
  {
   "cell_type": "markdown",
   "id": "75d21889",
   "metadata": {},
   "source": [
    "### Baseline"
   ]
  },
  {
   "cell_type": "code",
   "execution_count": 23,
   "id": "1e952884",
   "metadata": {},
   "outputs": [
    {
     "name": "stdout",
     "output_type": "stream",
     "text": [
      "Mean apt price: 132383.84\n",
      "Baseline MAE: 44860.11\n"
     ]
    }
   ],
   "source": [
    "y_mean = y_train.mean()\n",
    "y_pred_baseline = [y_mean for i in y_train]\n",
    "\n",
    "print(\"Mean apt price:\", y_mean.round(2))\n",
    "\n",
    "print(\"Baseline MAE:\", mean_absolute_error(y_train, y_pred_baseline).round(2))"
   ]
  },
  {
   "cell_type": "markdown",
   "id": "ae12d1c4",
   "metadata": {},
   "source": [
    "Now I will use the `OneHotEncoder` from the sklearn.preprocessing library to encode the non-numerical data."
   ]
  },
  {
   "cell_type": "code",
   "execution_count": 32,
   "id": "8ff3a9ca",
   "metadata": {},
   "outputs": [
    {
     "name": "stdout",
     "output_type": "stream",
     "text": [
      "(6582, 57)\n"
     ]
    },
    {
     "data": {
      "text/html": [
       "<div>\n",
       "<style scoped>\n",
       "    .dataframe tbody tr th:only-of-type {\n",
       "        vertical-align: middle;\n",
       "    }\n",
       "\n",
       "    .dataframe tbody tr th {\n",
       "        vertical-align: top;\n",
       "    }\n",
       "\n",
       "    .dataframe thead th {\n",
       "        text-align: right;\n",
       "    }\n",
       "</style>\n",
       "<table border=\"1\" class=\"dataframe\">\n",
       "  <thead>\n",
       "    <tr style=\"text-align: right;\">\n",
       "      <th></th>\n",
       "      <th>neighborhood_</th>\n",
       "      <th>neighborhood_Abasto</th>\n",
       "      <th>neighborhood_Agronomía</th>\n",
       "      <th>neighborhood_Almagro</th>\n",
       "      <th>neighborhood_Balvanera</th>\n",
       "      <th>neighborhood_Barracas</th>\n",
       "      <th>neighborhood_Barrio Norte</th>\n",
       "      <th>neighborhood_Belgrano</th>\n",
       "      <th>neighborhood_Boca</th>\n",
       "      <th>neighborhood_Boedo</th>\n",
       "      <th>...</th>\n",
       "      <th>neighborhood_Villa General Mitre</th>\n",
       "      <th>neighborhood_Villa Lugano</th>\n",
       "      <th>neighborhood_Villa Luro</th>\n",
       "      <th>neighborhood_Villa Ortuzar</th>\n",
       "      <th>neighborhood_Villa Pueyrredón</th>\n",
       "      <th>neighborhood_Villa Real</th>\n",
       "      <th>neighborhood_Villa Santa Rita</th>\n",
       "      <th>neighborhood_Villa Soldati</th>\n",
       "      <th>neighborhood_Villa Urquiza</th>\n",
       "      <th>neighborhood_Villa del Parque</th>\n",
       "    </tr>\n",
       "  </thead>\n",
       "  <tbody>\n",
       "    <tr>\n",
       "      <th>0</th>\n",
       "      <td>0.0</td>\n",
       "      <td>0.0</td>\n",
       "      <td>0.0</td>\n",
       "      <td>0.0</td>\n",
       "      <td>0.0</td>\n",
       "      <td>0.0</td>\n",
       "      <td>0.0</td>\n",
       "      <td>0.0</td>\n",
       "      <td>0.0</td>\n",
       "      <td>0.0</td>\n",
       "      <td>...</td>\n",
       "      <td>1.0</td>\n",
       "      <td>0.0</td>\n",
       "      <td>0.0</td>\n",
       "      <td>0.0</td>\n",
       "      <td>0.0</td>\n",
       "      <td>0.0</td>\n",
       "      <td>0.0</td>\n",
       "      <td>0.0</td>\n",
       "      <td>0.0</td>\n",
       "      <td>0.0</td>\n",
       "    </tr>\n",
       "    <tr>\n",
       "      <th>1</th>\n",
       "      <td>0.0</td>\n",
       "      <td>0.0</td>\n",
       "      <td>0.0</td>\n",
       "      <td>0.0</td>\n",
       "      <td>0.0</td>\n",
       "      <td>0.0</td>\n",
       "      <td>0.0</td>\n",
       "      <td>0.0</td>\n",
       "      <td>0.0</td>\n",
       "      <td>0.0</td>\n",
       "      <td>...</td>\n",
       "      <td>0.0</td>\n",
       "      <td>0.0</td>\n",
       "      <td>0.0</td>\n",
       "      <td>0.0</td>\n",
       "      <td>0.0</td>\n",
       "      <td>0.0</td>\n",
       "      <td>0.0</td>\n",
       "      <td>0.0</td>\n",
       "      <td>0.0</td>\n",
       "      <td>0.0</td>\n",
       "    </tr>\n",
       "    <tr>\n",
       "      <th>2</th>\n",
       "      <td>0.0</td>\n",
       "      <td>0.0</td>\n",
       "      <td>0.0</td>\n",
       "      <td>0.0</td>\n",
       "      <td>0.0</td>\n",
       "      <td>0.0</td>\n",
       "      <td>0.0</td>\n",
       "      <td>0.0</td>\n",
       "      <td>0.0</td>\n",
       "      <td>0.0</td>\n",
       "      <td>...</td>\n",
       "      <td>0.0</td>\n",
       "      <td>0.0</td>\n",
       "      <td>0.0</td>\n",
       "      <td>0.0</td>\n",
       "      <td>0.0</td>\n",
       "      <td>0.0</td>\n",
       "      <td>0.0</td>\n",
       "      <td>0.0</td>\n",
       "      <td>0.0</td>\n",
       "      <td>0.0</td>\n",
       "    </tr>\n",
       "    <tr>\n",
       "      <th>3</th>\n",
       "      <td>0.0</td>\n",
       "      <td>0.0</td>\n",
       "      <td>0.0</td>\n",
       "      <td>0.0</td>\n",
       "      <td>0.0</td>\n",
       "      <td>0.0</td>\n",
       "      <td>0.0</td>\n",
       "      <td>0.0</td>\n",
       "      <td>0.0</td>\n",
       "      <td>0.0</td>\n",
       "      <td>...</td>\n",
       "      <td>0.0</td>\n",
       "      <td>0.0</td>\n",
       "      <td>0.0</td>\n",
       "      <td>0.0</td>\n",
       "      <td>0.0</td>\n",
       "      <td>0.0</td>\n",
       "      <td>0.0</td>\n",
       "      <td>0.0</td>\n",
       "      <td>0.0</td>\n",
       "      <td>1.0</td>\n",
       "    </tr>\n",
       "    <tr>\n",
       "      <th>4</th>\n",
       "      <td>0.0</td>\n",
       "      <td>0.0</td>\n",
       "      <td>0.0</td>\n",
       "      <td>0.0</td>\n",
       "      <td>0.0</td>\n",
       "      <td>0.0</td>\n",
       "      <td>0.0</td>\n",
       "      <td>1.0</td>\n",
       "      <td>0.0</td>\n",
       "      <td>0.0</td>\n",
       "      <td>...</td>\n",
       "      <td>0.0</td>\n",
       "      <td>0.0</td>\n",
       "      <td>0.0</td>\n",
       "      <td>0.0</td>\n",
       "      <td>0.0</td>\n",
       "      <td>0.0</td>\n",
       "      <td>0.0</td>\n",
       "      <td>0.0</td>\n",
       "      <td>0.0</td>\n",
       "      <td>0.0</td>\n",
       "    </tr>\n",
       "  </tbody>\n",
       "</table>\n",
       "<p>5 rows × 57 columns</p>\n",
       "</div>"
      ],
      "text/plain": [
       "   neighborhood_  neighborhood_Abasto  neighborhood_Agronomía  \\\n",
       "0            0.0                  0.0                     0.0   \n",
       "1            0.0                  0.0                     0.0   \n",
       "2            0.0                  0.0                     0.0   \n",
       "3            0.0                  0.0                     0.0   \n",
       "4            0.0                  0.0                     0.0   \n",
       "\n",
       "   neighborhood_Almagro  neighborhood_Balvanera  neighborhood_Barracas  \\\n",
       "0                   0.0                     0.0                    0.0   \n",
       "1                   0.0                     0.0                    0.0   \n",
       "2                   0.0                     0.0                    0.0   \n",
       "3                   0.0                     0.0                    0.0   \n",
       "4                   0.0                     0.0                    0.0   \n",
       "\n",
       "   neighborhood_Barrio Norte  neighborhood_Belgrano  neighborhood_Boca  \\\n",
       "0                        0.0                    0.0                0.0   \n",
       "1                        0.0                    0.0                0.0   \n",
       "2                        0.0                    0.0                0.0   \n",
       "3                        0.0                    0.0                0.0   \n",
       "4                        0.0                    1.0                0.0   \n",
       "\n",
       "   neighborhood_Boedo  ...  neighborhood_Villa General Mitre  \\\n",
       "0                 0.0  ...                               1.0   \n",
       "1                 0.0  ...                               0.0   \n",
       "2                 0.0  ...                               0.0   \n",
       "3                 0.0  ...                               0.0   \n",
       "4                 0.0  ...                               0.0   \n",
       "\n",
       "   neighborhood_Villa Lugano  neighborhood_Villa Luro  \\\n",
       "0                        0.0                      0.0   \n",
       "1                        0.0                      0.0   \n",
       "2                        0.0                      0.0   \n",
       "3                        0.0                      0.0   \n",
       "4                        0.0                      0.0   \n",
       "\n",
       "   neighborhood_Villa Ortuzar  neighborhood_Villa Pueyrredón  \\\n",
       "0                         0.0                            0.0   \n",
       "1                         0.0                            0.0   \n",
       "2                         0.0                            0.0   \n",
       "3                         0.0                            0.0   \n",
       "4                         0.0                            0.0   \n",
       "\n",
       "   neighborhood_Villa Real  neighborhood_Villa Santa Rita  \\\n",
       "0                      0.0                            0.0   \n",
       "1                      0.0                            0.0   \n",
       "2                      0.0                            0.0   \n",
       "3                      0.0                            0.0   \n",
       "4                      0.0                            0.0   \n",
       "\n",
       "   neighborhood_Villa Soldati  neighborhood_Villa Urquiza  \\\n",
       "0                         0.0                         0.0   \n",
       "1                         0.0                         0.0   \n",
       "2                         0.0                         0.0   \n",
       "3                         0.0                         0.0   \n",
       "4                         0.0                         0.0   \n",
       "\n",
       "   neighborhood_Villa del Parque  \n",
       "0                            0.0  \n",
       "1                            0.0  \n",
       "2                            0.0  \n",
       "3                            1.0  \n",
       "4                            0.0  \n",
       "\n",
       "[5 rows x 57 columns]"
      ]
     },
     "execution_count": 32,
     "metadata": {},
     "output_type": "execute_result"
    }
   ],
   "source": [
    "ohe = OneHotEncoder(sparse_output=False)\n",
    "\n",
    "ohe.fit(X_train)\n",
    "\n",
    "# Retrieve the encoded feature names\n",
    "feature_names = ohe.get_feature_names_out(X_train.columns)\n",
    "\n",
    "XT_train = pd.DataFrame(ohe.transform(X_train), columns=feature_names)\n",
    "print(XT_train.shape)\n",
    "XT_train.head()"
   ]
  },
  {
   "cell_type": "markdown",
   "id": "39fa8edc",
   "metadata": {},
   "source": [
    "make a pipeline"
   ]
  },
  {
   "cell_type": "code",
   "execution_count": 33,
   "id": "9e494afe",
   "metadata": {},
   "outputs": [
    {
     "data": {
      "text/html": [
       "<style>#sk-container-id-1 {color: black;}#sk-container-id-1 pre{padding: 0;}#sk-container-id-1 div.sk-toggleable {background-color: white;}#sk-container-id-1 label.sk-toggleable__label {cursor: pointer;display: block;width: 100%;margin-bottom: 0;padding: 0.3em;box-sizing: border-box;text-align: center;}#sk-container-id-1 label.sk-toggleable__label-arrow:before {content: \"▸\";float: left;margin-right: 0.25em;color: #696969;}#sk-container-id-1 label.sk-toggleable__label-arrow:hover:before {color: black;}#sk-container-id-1 div.sk-estimator:hover label.sk-toggleable__label-arrow:before {color: black;}#sk-container-id-1 div.sk-toggleable__content {max-height: 0;max-width: 0;overflow: hidden;text-align: left;background-color: #f0f8ff;}#sk-container-id-1 div.sk-toggleable__content pre {margin: 0.2em;color: black;border-radius: 0.25em;background-color: #f0f8ff;}#sk-container-id-1 input.sk-toggleable__control:checked~div.sk-toggleable__content {max-height: 200px;max-width: 100%;overflow: auto;}#sk-container-id-1 input.sk-toggleable__control:checked~label.sk-toggleable__label-arrow:before {content: \"▾\";}#sk-container-id-1 div.sk-estimator input.sk-toggleable__control:checked~label.sk-toggleable__label {background-color: #d4ebff;}#sk-container-id-1 div.sk-label input.sk-toggleable__control:checked~label.sk-toggleable__label {background-color: #d4ebff;}#sk-container-id-1 input.sk-hidden--visually {border: 0;clip: rect(1px 1px 1px 1px);clip: rect(1px, 1px, 1px, 1px);height: 1px;margin: -1px;overflow: hidden;padding: 0;position: absolute;width: 1px;}#sk-container-id-1 div.sk-estimator {font-family: monospace;background-color: #f0f8ff;border: 1px dotted black;border-radius: 0.25em;box-sizing: border-box;margin-bottom: 0.5em;}#sk-container-id-1 div.sk-estimator:hover {background-color: #d4ebff;}#sk-container-id-1 div.sk-parallel-item::after {content: \"\";width: 100%;border-bottom: 1px solid gray;flex-grow: 1;}#sk-container-id-1 div.sk-label:hover label.sk-toggleable__label {background-color: #d4ebff;}#sk-container-id-1 div.sk-serial::before {content: \"\";position: absolute;border-left: 1px solid gray;box-sizing: border-box;top: 0;bottom: 0;left: 50%;z-index: 0;}#sk-container-id-1 div.sk-serial {display: flex;flex-direction: column;align-items: center;background-color: white;padding-right: 0.2em;padding-left: 0.2em;position: relative;}#sk-container-id-1 div.sk-item {position: relative;z-index: 1;}#sk-container-id-1 div.sk-parallel {display: flex;align-items: stretch;justify-content: center;background-color: white;position: relative;}#sk-container-id-1 div.sk-item::before, #sk-container-id-1 div.sk-parallel-item::before {content: \"\";position: absolute;border-left: 1px solid gray;box-sizing: border-box;top: 0;bottom: 0;left: 50%;z-index: -1;}#sk-container-id-1 div.sk-parallel-item {display: flex;flex-direction: column;z-index: 1;position: relative;background-color: white;}#sk-container-id-1 div.sk-parallel-item:first-child::after {align-self: flex-end;width: 50%;}#sk-container-id-1 div.sk-parallel-item:last-child::after {align-self: flex-start;width: 50%;}#sk-container-id-1 div.sk-parallel-item:only-child::after {width: 0;}#sk-container-id-1 div.sk-dashed-wrapped {border: 1px dashed gray;margin: 0 0.4em 0.5em 0.4em;box-sizing: border-box;padding-bottom: 0.4em;background-color: white;}#sk-container-id-1 div.sk-label label {font-family: monospace;font-weight: bold;display: inline-block;line-height: 1.2em;}#sk-container-id-1 div.sk-label-container {text-align: center;}#sk-container-id-1 div.sk-container {/* jupyter's `normalize.less` sets `[hidden] { display: none; }` but bootstrap.min.css set `[hidden] { display: none !important; }` so we also need the `!important` here to be able to override the default hidden behavior on the sphinx rendered scikit-learn.org. See: https://github.com/scikit-learn/scikit-learn/issues/21755 */display: inline-block !important;position: relative;}#sk-container-id-1 div.sk-text-repr-fallback {display: none;}</style><div id=\"sk-container-id-1\" class=\"sk-top-container\"><div class=\"sk-text-repr-fallback\"><pre>Pipeline(steps=[(&#x27;onehotencoder&#x27;, OneHotEncoder(sparse_output=False)),\n",
       "                (&#x27;ridge&#x27;, Ridge())])</pre><b>In a Jupyter environment, please rerun this cell to show the HTML representation or trust the notebook. <br />On GitHub, the HTML representation is unable to render, please try loading this page with nbviewer.org.</b></div><div class=\"sk-container\" hidden><div class=\"sk-item sk-dashed-wrapped\"><div class=\"sk-label-container\"><div class=\"sk-label sk-toggleable\"><input class=\"sk-toggleable__control sk-hidden--visually\" id=\"sk-estimator-id-1\" type=\"checkbox\" ><label for=\"sk-estimator-id-1\" class=\"sk-toggleable__label sk-toggleable__label-arrow\">Pipeline</label><div class=\"sk-toggleable__content\"><pre>Pipeline(steps=[(&#x27;onehotencoder&#x27;, OneHotEncoder(sparse_output=False)),\n",
       "                (&#x27;ridge&#x27;, Ridge())])</pre></div></div></div><div class=\"sk-serial\"><div class=\"sk-item\"><div class=\"sk-estimator sk-toggleable\"><input class=\"sk-toggleable__control sk-hidden--visually\" id=\"sk-estimator-id-2\" type=\"checkbox\" ><label for=\"sk-estimator-id-2\" class=\"sk-toggleable__label sk-toggleable__label-arrow\">OneHotEncoder</label><div class=\"sk-toggleable__content\"><pre>OneHotEncoder(sparse_output=False)</pre></div></div></div><div class=\"sk-item\"><div class=\"sk-estimator sk-toggleable\"><input class=\"sk-toggleable__control sk-hidden--visually\" id=\"sk-estimator-id-3\" type=\"checkbox\" ><label for=\"sk-estimator-id-3\" class=\"sk-toggleable__label sk-toggleable__label-arrow\">Ridge</label><div class=\"sk-toggleable__content\"><pre>Ridge()</pre></div></div></div></div></div></div></div>"
      ],
      "text/plain": [
       "Pipeline(steps=[('onehotencoder', OneHotEncoder(sparse_output=False)),\n",
       "                ('ridge', Ridge())])"
      ]
     },
     "execution_count": 33,
     "metadata": {},
     "output_type": "execute_result"
    }
   ],
   "source": [
    "model = make_pipeline(\n",
    "    OneHotEncoder(sparse_output=False),\n",
    "    Ridge()\n",
    ")\n",
    "\n",
    "model.fit(X_train, y_train)"
   ]
  },
  {
   "cell_type": "markdown",
   "id": "749237ef",
   "metadata": {},
   "source": [
    "## Evaluate"
   ]
  },
  {
   "cell_type": "markdown",
   "id": "548d4d0f",
   "metadata": {},
   "source": [
    "Regardless of how you build your model, the evaluation step stays the same. Let's see how our model performs with the training set."
   ]
  },
  {
   "cell_type": "code",
   "execution_count": 34,
   "id": "279029fa",
   "metadata": {},
   "outputs": [
    {
     "name": "stdout",
     "output_type": "stream",
     "text": [
      "Training MAE: 39350.22\n"
     ]
    }
   ],
   "source": [
    "y_pred_training = model.predict(X_train)\n",
    "mae_training = mean_absolute_error(y_train, y_pred_training)\n",
    "print(\"Training MAE:\", round(mae_training, 2))"
   ]
  },
  {
   "cell_type": "markdown",
   "id": "c9f88c26",
   "metadata": {},
   "source": [
    "# Communicate Results"
   ]
  },
  {
   "cell_type": "markdown",
   "id": "cde4bdc2",
   "metadata": {},
   "source": [
    "If I write out the equation for the model, it'll be too big to fit on the screen. That's because, when I used the `OneHotEncoder` to encode the neighborhood data, I created a much wider DataFrame, and each column/feature has it's own coefficient in the model's equation.\n",
    "\n",
    "<center><img src=\"images/img-6.png\" alt=\"Equation: y = β0 + β1 x1 + β2 x2 + ... + β59 x59 + β60 x60 \" style=\"width: 800px;\"/></center>\n",
    "\n",
    "This is important to keep in mind for two reasons. First, it means that this is a **high-dimensional** model. Instead of a 2D or 3D plot, we'd need a 58-dimensional plot to represent it, which is impossible! Second, it means that we'll need to extract and represent the information for our equation a little differently than before. Let's start by getting our intercept and coefficient."
   ]
  },
  {
   "cell_type": "code",
   "execution_count": 48,
   "id": "8fb4af57",
   "metadata": {},
   "outputs": [
    {
     "name": "stdout",
     "output_type": "stream",
     "text": [
      "intercept: 118524.65\n",
      "coefficients len: 57\n",
      "[-19370.74349751   4330.54631771   -772.70368229   2903.33556626\n",
      " -11172.55279922]\n"
     ]
    }
   ],
   "source": [
    "intercept = model.named_steps[\"ridge\"].intercept_\n",
    "coefficients = model.named_steps[\"ridge\"].coef_\n",
    "print(\"intercept:\", round(intercept, 2))\n",
    "print(\"coefficients len:\", len(coefficients))\n",
    "print(coefficients[:5])  # First five coefficients"
   ]
  },
  {
   "cell_type": "markdown",
   "id": "1e796773",
   "metadata": {},
   "source": [
    "Extract the feature names from the OneHotEncoder in your model"
   ]
  },
  {
   "cell_type": "code",
   "execution_count": 41,
   "id": "aa660a0c",
   "metadata": {},
   "outputs": [
    {
     "name": "stdout",
     "output_type": "stream",
     "text": [
      "features len: 57\n",
      "['neighborhood_' 'neighborhood_Abasto' 'neighborhood_Agronomía'\n",
      " 'neighborhood_Almagro' 'neighborhood_Balvanera']\n"
     ]
    }
   ],
   "source": [
    "feature_names = model.named_steps[\"onehotencoder\"].get_feature_names_out()\n",
    "print(\"features len:\", len(feature_names))\n",
    "print(feature_names[:5])  # First five feature names"
   ]
  },
  {
   "cell_type": "markdown",
   "id": "8d3ab9f8",
   "metadata": {},
   "source": [
    "We have coefficients and feature names so we shall use Series to put them together."
   ]
  },
  {
   "cell_type": "code",
   "execution_count": 44,
   "id": "57d14a34",
   "metadata": {},
   "outputs": [
    {
     "data": {
      "text/plain": [
       "neighborhood_            -19370.743498\n",
       "neighborhood_Abasto        4330.546318\n",
       "neighborhood_Agronomía     -772.703682\n",
       "neighborhood_Almagro       2903.335566\n",
       "neighborhood_Balvanera   -11172.552799\n",
       "dtype: float64"
      ]
     },
     "execution_count": 44,
     "metadata": {},
     "output_type": "execute_result"
    }
   ],
   "source": [
    "feat_imp = pd.Series(coefficients, index=feature_names)\n",
    "feat_imp.head()"
   ]
  },
  {
   "cell_type": "markdown",
   "id": "9d94536c",
   "metadata": {},
   "source": [
    "For visibility into what is going on I will print out the equation for our modle"
   ]
  },
  {
   "cell_type": "code",
   "execution_count": 45,
   "id": "f28d859e",
   "metadata": {},
   "outputs": [
    {
     "name": "stdout",
     "output_type": "stream",
     "text": [
      "price = 118524.65\n",
      "+ (-19370.74 * neighborhood_)\n",
      "+ (4330.55 * neighborhood_Abasto)\n",
      "+ (-772.7 * neighborhood_Agronomía)\n",
      "+ (2903.34 * neighborhood_Almagro)\n",
      "+ (-11172.55 * neighborhood_Balvanera)\n",
      "+ (-4618.66 * neighborhood_Barracas)\n",
      "+ (55590.93 * neighborhood_Barrio Norte)\n",
      "+ (46954.21 * neighborhood_Belgrano)\n",
      "+ (-28353.36 * neighborhood_Boca)\n",
      "+ (-6837.4 * neighborhood_Boedo)\n",
      "+ (9252.89 * neighborhood_Caballito)\n",
      "+ (-22012.32 * neighborhood_Catalinas)\n",
      "+ (-7905.29 * neighborhood_Centro / Microcentro)\n",
      "+ (-2898.96 * neighborhood_Chacarita)\n",
      "+ (12223.11 * neighborhood_Coghlan)\n",
      "+ (38436.33 * neighborhood_Colegiales)\n",
      "+ (-7974.66 * neighborhood_Congreso)\n",
      "+ (-41748.73 * neighborhood_Constitución)\n",
      "+ (-8662.28 * neighborhood_Flores)\n",
      "+ (-14088.02 * neighborhood_Floresta)\n",
      "+ (72270.21 * neighborhood_Las Cañitas)\n",
      "+ (-13729.1 * neighborhood_Liniers)\n",
      "+ (-21078.78 * neighborhood_Mataderos)\n",
      "+ (-20292.6 * neighborhood_Monserrat)\n",
      "+ (-3427.44 * neighborhood_Monte Castro)\n",
      "+ (42831.32 * neighborhood_Nuñez)\n",
      "+ (-3230.37 * neighborhood_Once)\n",
      "+ (45934.41 * neighborhood_Palermo)\n",
      "+ (-29585.61 * neighborhood_Parque Avellaneda)\n",
      "+ (-6323.68 * neighborhood_Parque Centenario)\n",
      "+ (-7678.62 * neighborhood_Parque Chacabuco)\n",
      "+ (-32439.87 * neighborhood_Parque Chas)\n",
      "+ (-15807.01 * neighborhood_Parque Patricios)\n",
      "+ (-7108.23 * neighborhood_Paternal)\n",
      "+ (-43909.59 * neighborhood_Pompeya)\n",
      "+ (128100.05 * neighborhood_Puerto Madero)\n",
      "+ (72740.78 * neighborhood_Recoleta)\n",
      "+ (27042.61 * neighborhood_Retiro)\n",
      "+ (14701.16 * neighborhood_Saavedra)\n",
      "+ (-10678.63 * neighborhood_San Cristobal)\n",
      "+ (-10734.35 * neighborhood_San Nicolás)\n",
      "+ (5638.47 * neighborhood_San Telmo)\n",
      "+ (-7818.09 * neighborhood_Tribunales)\n",
      "+ (-27219.72 * neighborhood_Velez Sarsfield)\n",
      "+ (-4937.21 * neighborhood_Versalles)\n",
      "+ (6277.05 * neighborhood_Villa Crespo)\n",
      "+ (3860.58 * neighborhood_Villa Devoto)\n",
      "+ (7714.62 * neighborhood_Villa General Mitre)\n",
      "+ (-48669.35 * neighborhood_Villa Lugano)\n",
      "+ (-6.3 * neighborhood_Villa Luro)\n",
      "+ (-11208.9 * neighborhood_Villa Ortuzar)\n",
      "+ (-8093.45 * neighborhood_Villa Pueyrredón)\n",
      "+ (-7393.49 * neighborhood_Villa Real)\n",
      "+ (-19843.92 * neighborhood_Villa Santa Rita)\n",
      "+ (-59248.81 * neighborhood_Villa Soldati)\n",
      "+ (12671.71 * neighborhood_Villa Urquiza)\n",
      "+ (-12595.5 * neighborhood_Villa del Parque)\n"
     ]
    }
   ],
   "source": [
    "print(f\"price = {intercept.round(2)}\")\n",
    "for f, c in feat_imp.items():\n",
    "    print(f\"+ ({round(c, 2)} * {f})\")"
   ]
  },
  {
   "cell_type": "markdown",
   "id": "7bff56a7",
   "metadata": {},
   "source": [
    "A horizontal bar chart that shows the top 15 coefficients for your model, based on their absolute value."
   ]
  },
  {
   "cell_type": "code",
   "execution_count": 47,
   "id": "b491347c",
   "metadata": {},
   "outputs": [
    {
     "data": {
      "image/png": "[encoded data removed]",
      "text/plain": [
       "<Figure size 640x480 with 1 Axes>"
      ]
     },
     "metadata": {},
     "output_type": "display_data"
    }
   ],
   "source": [
    "feat_imp.sort_values(key=abs).tail(15).plot(kind=\"barh\")\n",
    "plt.xlabel(\"Importance [USD]\")\n",
    "plt.ylabel(\"Features\")\n",
    "plt.title(\"Feature Importance for Apartment Price\");"
   ]
  },
  {
   "cell_type": "code",
   "execution_count": null,
   "id": "f2f653ea",
   "metadata": {},
   "outputs": [],
   "source": []
  }
 ],
 "metadata": {
  "kernelspec": {
   "display_name": "Python 3 (ipykernel)",
   "language": "python",
   "name": "python3"
  },
  "language_info": {
   "codemirror_mode": {
    "name": "ipython",
    "version": 3
   },
   "file_extension": ".py",
   "mimetype": "text/x-python",
   "name": "python",
   "nbconvert_exporter": "python",
   "pygments_lexer": "ipython3",
   "version": "3.11.4"
  }
 },
 "nbformat": 4,
 "nbformat_minor": 5
}
